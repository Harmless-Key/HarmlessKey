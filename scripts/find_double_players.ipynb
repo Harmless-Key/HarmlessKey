{
 "cells": [
  {
   "cell_type": "code",
   "execution_count": null,
   "metadata": {},
   "outputs": [],
   "source": [
    "import pandas as pd\n",
    "import os\n",
    "import json\n",
    "import pprint"
   ]
  },
  {
   "cell_type": "code",
   "execution_count": null,
   "metadata": {
    "scrolled": false
   },
   "outputs": [],
   "source": [
    "data_dir = 'data/'\n",
    "file_name = 'campaigns_export_2019-10-06.json'\n",
    "file_path = os.path.join(data_dir, file_name)\n",
    "\n",
    "with open(file_path, 'r') as f:\n",
    "    data = json.load(f)\n",
    "\n",
    "    \n",
    "for user, campaigns in data.items():\n",
    "    if len(campaigns.keys())>1:\n",
    "#         pprint.pprint(campaigns.keys())\n",
    "        all_players = set()\n",
    "        for key, campaign in campaigns.items():\n",
    "            \n",
    "            if 'players' in campaign.keys():\n",
    "#                 print(set(campaign['players'].keys()))\n",
    "                player_set = set(campaign['players'].keys())\n",
    "#                 print(all_players.)\n",
    "                if len(all_players.intersection(player_set)) > 0:\n",
    "                    print(all_players.intersection(player_set))\n",
    "                    print(user)\n",
    "                else:\n",
    "                    all_players = all_players.union(player_set)\n",
    "        print(\"----\")"
   ]
  }
 ],
 "metadata": {
  "kernelspec": {
   "display_name": "Python 3",
   "language": "python",
   "name": "python3"
  },
  "language_info": {
   "codemirror_mode": {
    "name": "ipython",
    "version": 3
   },
   "file_extension": ".py",
   "mimetype": "text/x-python",
   "name": "python",
   "nbconvert_exporter": "python",
   "pygments_lexer": "ipython3",
   "version": "3.6.8"
  }
 },
 "nbformat": 4,
 "nbformat_minor": 2
}
